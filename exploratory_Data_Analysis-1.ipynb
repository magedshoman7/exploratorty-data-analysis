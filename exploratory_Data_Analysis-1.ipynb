{
 "cells": [
  {
   "cell_type": "code",
   "execution_count": 177,
   "metadata": {
    "colab": {},
    "colab_type": "code",
    "executionInfo": {
     "elapsed": 340,
     "status": "ok",
     "timestamp": 1600285049598,
     "user": {
      "displayName": "Yaw Adu-Gyamfi",
      "photoUrl": "",
      "userId": "06648105294395810325"
     },
     "user_tz": 300
    },
    "id": "iUS_78qeCOjy"
   },
   "outputs": [],
   "source": [
    "import pandas as pd\n",
    "import random\n",
    "import numpy as np \n",
    "import matplotlib.pyplot as plt"
   ]
  },
  {
   "cell_type": "code",
   "execution_count": 2,
   "metadata": {
    "colab": {
     "base_uri": "https://localhost:8080/",
     "height": 34
    },
    "colab_type": "code",
    "executionInfo": {
     "elapsed": 26638,
     "status": "ok",
     "timestamp": 1600278606508,
     "user": {
      "displayName": "Yaw Adu-Gyamfi",
      "photoUrl": "",
      "userId": "06648105294395810325"
     },
     "user_tz": 300
    },
    "id": "dnFgK_vtCRQ-",
    "outputId": "f06b0866-9eae-49c6-d424-007e209e985e"
   },
   "outputs": [
    {
     "name": "stdout",
     "output_type": "stream",
     "text": [
      "Mounted at /content/gdrive\n"
     ]
    }
   ],
   "source": [
    "from google.colab import drive\n",
    "drive.mount('/content/gdrive')"
   ]
  },
  {
   "cell_type": "code",
   "execution_count": 98,
   "metadata": {
    "colab": {},
    "colab_type": "code",
    "executionInfo": {
     "elapsed": 368,
     "status": "ok",
     "timestamp": 1600281909362,
     "user": {
      "displayName": "Yaw Adu-Gyamfi",
      "photoUrl": "",
      "userId": "06648105294395810325"
     },
     "user_tz": 300
    },
    "id": "fmArpsw3CcmK"
   },
   "outputs": [],
   "source": [
    "class dataproc:\n",
    "  \"\"\"A simple class for ranking detectors by speed and occupancy\"\"\"\n",
    "  def __init__(self,path):\n",
    "    self.path = path\n",
    "    self.n = 1\n",
    "    self.days = [2,3]\n",
    "\n",
    "  def read_csv_format(self):\n",
    "    df = pd.read_csv(self.path)\n",
    "    df['datetime'] = pd.to_datetime(df['datetime'])\n",
    "    \n",
    "    return df\n",
    "  \n",
    "  def pick_random(self):\n",
    "    # df is dataframe\n",
    "    # n is the number of detectors to filter\n",
    "    df = self.read_csv_format()\n",
    "    unique_detectors = df['detector_id'].unique()\n",
    "    select_detectors = random.sample(unique_detectors.tolist(),self.n)\n",
    "    df_filter = df[df['detector_id'].isin(select_detectors)]\n",
    "    return df_filter\n",
    "\n",
    "\n",
    "  def visualize(self, df):\n",
    "    return df['occupancy'].plot.hist(), df.plot(x='datetime',y='occupancy')\n",
    "\n",
    "  def split_data(self,df):\n",
    "    df['day'] = df['datetime'].dt.day \n",
    "    df['hour']= df['datetime'].dt.hour\n",
    "    df = df[(df['hour']>=6) & (df['hour']<=20) ]\n",
    "    return df[df['day']==self.days[0]],df[df['day']==self.days[1]]\n"
   ]
  },
  {
   "cell_type": "code",
   "execution_count": 99,
   "metadata": {
    "colab": {},
    "colab_type": "code",
    "executionInfo": {
     "elapsed": 327,
     "status": "ok",
     "timestamp": 1600281915080,
     "user": {
      "displayName": "Yaw Adu-Gyamfi",
      "photoUrl": "",
      "userId": "06648105294395810325"
     },
     "user_tz": 300
    },
    "id": "ZFcay1OgCmTg"
   },
   "outputs": [],
   "source": [
    "path = '/content/gdrive/My Drive/CVENG_8160/data/delay_bottleneck.csv'\n",
    "dp = dataproc(path)"
   ]
  },
  {
   "cell_type": "code",
   "execution_count": 100,
   "metadata": {
    "colab": {},
    "colab_type": "code",
    "executionInfo": {
     "elapsed": 2014,
     "status": "ok",
     "timestamp": 1600281918189,
     "user": {
      "displayName": "Yaw Adu-Gyamfi",
      "photoUrl": "",
      "userId": "06648105294395810325"
     },
     "user_tz": 300
    },
    "id": "rAgzcsPHCq_a"
   },
   "outputs": [],
   "source": [
    "df = dp.pick_random()"
   ]
  },
  {
   "cell_type": "code",
   "execution_count": 42,
   "metadata": {
    "colab": {
     "base_uri": "https://localhost:8080/",
     "height": 204
    },
    "colab_type": "code",
    "executionInfo": {
     "elapsed": 701,
     "status": "ok",
     "timestamp": 1600279671325,
     "user": {
      "displayName": "Yaw Adu-Gyamfi",
      "photoUrl": "",
      "userId": "06648105294395810325"
     },
     "user_tz": 300
    },
    "id": "w1g9UHI7CyTo",
    "outputId": "44dab1a8-d5a4-4547-ad01-b144f5e8dc46"
   },
   "outputs": [
    {
     "data": {
      "text/html": [
       "<div>\n",
       "<style scoped>\n",
       "    .dataframe tbody tr th:only-of-type {\n",
       "        vertical-align: middle;\n",
       "    }\n",
       "\n",
       "    .dataframe tbody tr th {\n",
       "        vertical-align: top;\n",
       "    }\n",
       "\n",
       "    .dataframe thead th {\n",
       "        text-align: right;\n",
       "    }\n",
       "</style>\n",
       "<table border=\"1\" class=\"dataframe\">\n",
       "  <thead>\n",
       "    <tr style=\"text-align: right;\">\n",
       "      <th></th>\n",
       "      <th>detector_id</th>\n",
       "      <th>travelway</th>\n",
       "      <th>direction</th>\n",
       "      <th>loc</th>\n",
       "      <th>datetime</th>\n",
       "      <th>speed</th>\n",
       "      <th>volume</th>\n",
       "      <th>occupancy</th>\n",
       "      <th>congested</th>\n",
       "      <th>long</th>\n",
       "      <th>lat</th>\n",
       "      <th>day</th>\n",
       "    </tr>\n",
       "  </thead>\n",
       "  <tbody>\n",
       "    <tr>\n",
       "      <th>309075</th>\n",
       "      <td>MI070W215.9D</td>\n",
       "      <td>70</td>\n",
       "      <td>West</td>\n",
       "      <td>217.2</td>\n",
       "      <td>2017-09-01 02:09:00</td>\n",
       "      <td>69.432900</td>\n",
       "      <td>2.099567</td>\n",
       "      <td>1.435065</td>\n",
       "      <td>0.0</td>\n",
       "      <td>-90.735199</td>\n",
       "      <td>38.803299</td>\n",
       "      <td>1</td>\n",
       "    </tr>\n",
       "    <tr>\n",
       "      <th>309076</th>\n",
       "      <td>MI070W215.9D</td>\n",
       "      <td>70</td>\n",
       "      <td>West</td>\n",
       "      <td>217.7</td>\n",
       "      <td>2017-09-01 02:09:00</td>\n",
       "      <td>65.883117</td>\n",
       "      <td>1.883117</td>\n",
       "      <td>1.467532</td>\n",
       "      <td>0.0</td>\n",
       "      <td>-90.735199</td>\n",
       "      <td>38.803299</td>\n",
       "      <td>1</td>\n",
       "    </tr>\n",
       "    <tr>\n",
       "      <th>309077</th>\n",
       "      <td>MI070W215.9D</td>\n",
       "      <td>70</td>\n",
       "      <td>West</td>\n",
       "      <td>218.2</td>\n",
       "      <td>2017-09-01 02:09:00</td>\n",
       "      <td>62.333333</td>\n",
       "      <td>1.666667</td>\n",
       "      <td>1.500000</td>\n",
       "      <td>0.0</td>\n",
       "      <td>-90.735199</td>\n",
       "      <td>38.803299</td>\n",
       "      <td>1</td>\n",
       "    </tr>\n",
       "    <tr>\n",
       "      <th>309078</th>\n",
       "      <td>MI070W215.9D</td>\n",
       "      <td>70</td>\n",
       "      <td>West</td>\n",
       "      <td>217.2</td>\n",
       "      <td>2017-09-01 02:44:00</td>\n",
       "      <td>71.185606</td>\n",
       "      <td>1.045455</td>\n",
       "      <td>1.102273</td>\n",
       "      <td>0.0</td>\n",
       "      <td>-90.735199</td>\n",
       "      <td>38.803299</td>\n",
       "      <td>1</td>\n",
       "    </tr>\n",
       "    <tr>\n",
       "      <th>309079</th>\n",
       "      <td>MI070W215.9D</td>\n",
       "      <td>70</td>\n",
       "      <td>West</td>\n",
       "      <td>217.7</td>\n",
       "      <td>2017-09-01 02:44:00</td>\n",
       "      <td>53.780303</td>\n",
       "      <td>1.272727</td>\n",
       "      <td>1.613636</td>\n",
       "      <td>0.0</td>\n",
       "      <td>-90.735199</td>\n",
       "      <td>38.803299</td>\n",
       "      <td>1</td>\n",
       "    </tr>\n",
       "  </tbody>\n",
       "</table>\n",
       "</div>"
      ],
      "text/plain": [
       "         detector_id  travelway direction  ...       long        lat  day\n",
       "309075  MI070W215.9D         70      West  ... -90.735199  38.803299    1\n",
       "309076  MI070W215.9D         70      West  ... -90.735199  38.803299    1\n",
       "309077  MI070W215.9D         70      West  ... -90.735199  38.803299    1\n",
       "309078  MI070W215.9D         70      West  ... -90.735199  38.803299    1\n",
       "309079  MI070W215.9D         70      West  ... -90.735199  38.803299    1\n",
       "\n",
       "[5 rows x 12 columns]"
      ]
     },
     "execution_count": 42,
     "metadata": {
      "tags": []
     },
     "output_type": "execute_result"
    }
   ],
   "source": [
    "df.head()"
   ]
  },
  {
   "cell_type": "code",
   "execution_count": 43,
   "metadata": {
    "colab": {
     "base_uri": "https://localhost:8080/",
     "height": 567
    },
    "colab_type": "code",
    "executionInfo": {
     "elapsed": 853,
     "status": "ok",
     "timestamp": 1600279674288,
     "user": {
      "displayName": "Yaw Adu-Gyamfi",
      "photoUrl": "",
      "userId": "06648105294395810325"
     },
     "user_tz": 300
    },
    "id": "8RWl9RCxCzBd",
    "outputId": "9f823cb9-c046-466b-bc69-5a6beea28377"
   },
   "outputs": [
    {
     "data": {
      "text/plain": [
       "(<matplotlib.axes._subplots.AxesSubplot at 0x7fd9577567b8>,\n",
       " <matplotlib.axes._subplots.AxesSubplot at 0x7fd9575225c0>)"
      ]
     },
     "execution_count": 43,
     "metadata": {
      "tags": []
     },
     "output_type": "execute_result"
    },
    {
     "data": {
      "image/png": "[encoded data removed]",
      "text/plain": [
       "<Figure size 432x288 with 1 Axes>"
      ]
     },
     "metadata": {
      "needs_background": "light",
      "tags": []
     },
     "output_type": "display_data"
    },
    {
     "data": {
      "image/png": "[encoded data removed]",
      "text/plain": [
       "<Figure size 432x288 with 1 Axes>"
      ]
     },
     "metadata": {
      "needs_background": "light",
      "tags": []
     },
     "output_type": "display_data"
    }
   ],
   "source": [
    "dp.visualize(df)"
   ]
  },
  {
   "cell_type": "code",
   "execution_count": 101,
   "metadata": {
    "colab": {},
    "colab_type": "code",
    "executionInfo": {
     "elapsed": 297,
     "status": "ok",
     "timestamp": 1600281922023,
     "user": {
      "displayName": "Yaw Adu-Gyamfi",
      "photoUrl": "",
      "userId": "06648105294395810325"
     },
     "user_tz": 300
    },
    "id": "sXWmT9ScDMVC"
   },
   "outputs": [],
   "source": [
    "[df1,df2] = dp.split_data(df)"
   ]
  },
  {
   "cell_type": "code",
   "execution_count": 102,
   "metadata": {
    "colab": {
     "base_uri": "https://localhost:8080/",
     "height": 204
    },
    "colab_type": "code",
    "executionInfo": {
     "elapsed": 358,
     "status": "ok",
     "timestamp": 1600281927168,
     "user": {
      "displayName": "Yaw Adu-Gyamfi",
      "photoUrl": "",
      "userId": "06648105294395810325"
     },
     "user_tz": 300
    },
    "id": "gWUvou91IsAh",
    "outputId": "70cf909c-3eca-4f62-a348-58aa3de2fe9d"
   },
   "outputs": [
    {
     "data": {
      "text/html": [
       "<div>\n",
       "<style scoped>\n",
       "    .dataframe tbody tr th:only-of-type {\n",
       "        vertical-align: middle;\n",
       "    }\n",
       "\n",
       "    .dataframe tbody tr th {\n",
       "        vertical-align: top;\n",
       "    }\n",
       "\n",
       "    .dataframe thead th {\n",
       "        text-align: right;\n",
       "    }\n",
       "</style>\n",
       "<table border=\"1\" class=\"dataframe\">\n",
       "  <thead>\n",
       "    <tr style=\"text-align: right;\">\n",
       "      <th></th>\n",
       "      <th>detector_id</th>\n",
       "      <th>travelway</th>\n",
       "      <th>direction</th>\n",
       "      <th>loc</th>\n",
       "      <th>datetime</th>\n",
       "      <th>speed</th>\n",
       "      <th>volume</th>\n",
       "      <th>occupancy</th>\n",
       "      <th>congested</th>\n",
       "      <th>long</th>\n",
       "      <th>lat</th>\n",
       "      <th>day</th>\n",
       "      <th>hour</th>\n",
       "    </tr>\n",
       "  </thead>\n",
       "  <tbody>\n",
       "    <tr>\n",
       "      <th>475480</th>\n",
       "      <td>MI270E002.4D</td>\n",
       "      <td>270</td>\n",
       "      <td>East</td>\n",
       "      <td>5.3</td>\n",
       "      <td>2017-09-02 06:09:00</td>\n",
       "      <td>46.018957</td>\n",
       "      <td>1.027488</td>\n",
       "      <td>1.0</td>\n",
       "      <td>0.0</td>\n",
       "      <td>-90.380203</td>\n",
       "      <td>38.5154</td>\n",
       "      <td>2</td>\n",
       "      <td>6</td>\n",
       "    </tr>\n",
       "    <tr>\n",
       "      <th>475481</th>\n",
       "      <td>MI270E002.4D</td>\n",
       "      <td>270</td>\n",
       "      <td>East</td>\n",
       "      <td>5.8</td>\n",
       "      <td>2017-09-02 06:09:00</td>\n",
       "      <td>45.936019</td>\n",
       "      <td>1.032227</td>\n",
       "      <td>1.0</td>\n",
       "      <td>0.0</td>\n",
       "      <td>-90.380203</td>\n",
       "      <td>38.5154</td>\n",
       "      <td>2</td>\n",
       "      <td>6</td>\n",
       "    </tr>\n",
       "    <tr>\n",
       "      <th>475482</th>\n",
       "      <td>MI270E002.4D</td>\n",
       "      <td>270</td>\n",
       "      <td>East</td>\n",
       "      <td>6.3</td>\n",
       "      <td>2017-09-02 06:09:00</td>\n",
       "      <td>45.853081</td>\n",
       "      <td>1.036967</td>\n",
       "      <td>1.0</td>\n",
       "      <td>0.0</td>\n",
       "      <td>-90.380203</td>\n",
       "      <td>38.5154</td>\n",
       "      <td>2</td>\n",
       "      <td>6</td>\n",
       "    </tr>\n",
       "    <tr>\n",
       "      <th>475483</th>\n",
       "      <td>MI270E002.4D</td>\n",
       "      <td>270</td>\n",
       "      <td>East</td>\n",
       "      <td>6.8</td>\n",
       "      <td>2017-09-02 06:09:00</td>\n",
       "      <td>45.770142</td>\n",
       "      <td>1.041706</td>\n",
       "      <td>1.0</td>\n",
       "      <td>0.0</td>\n",
       "      <td>-90.380203</td>\n",
       "      <td>38.5154</td>\n",
       "      <td>2</td>\n",
       "      <td>6</td>\n",
       "    </tr>\n",
       "    <tr>\n",
       "      <th>475484</th>\n",
       "      <td>MI270E002.4D</td>\n",
       "      <td>270</td>\n",
       "      <td>East</td>\n",
       "      <td>7.3</td>\n",
       "      <td>2017-09-02 06:09:00</td>\n",
       "      <td>45.687204</td>\n",
       "      <td>1.046445</td>\n",
       "      <td>1.0</td>\n",
       "      <td>0.0</td>\n",
       "      <td>-90.380203</td>\n",
       "      <td>38.5154</td>\n",
       "      <td>2</td>\n",
       "      <td>6</td>\n",
       "    </tr>\n",
       "  </tbody>\n",
       "</table>\n",
       "</div>"
      ],
      "text/plain": [
       "         detector_id  travelway direction  loc  ...       long      lat  day  hour\n",
       "475480  MI270E002.4D        270      East  5.3  ... -90.380203  38.5154    2     6\n",
       "475481  MI270E002.4D        270      East  5.8  ... -90.380203  38.5154    2     6\n",
       "475482  MI270E002.4D        270      East  6.3  ... -90.380203  38.5154    2     6\n",
       "475483  MI270E002.4D        270      East  6.8  ... -90.380203  38.5154    2     6\n",
       "475484  MI270E002.4D        270      East  7.3  ... -90.380203  38.5154    2     6\n",
       "\n",
       "[5 rows x 13 columns]"
      ]
     },
     "execution_count": 102,
     "metadata": {
      "tags": []
     },
     "output_type": "execute_result"
    }
   ],
   "source": [
    "df1.head()"
   ]
  },
  {
   "cell_type": "code",
   "execution_count": 103,
   "metadata": {
    "colab": {
     "base_uri": "https://localhost:8080/",
     "height": 204
    },
    "colab_type": "code",
    "executionInfo": {
     "elapsed": 474,
     "status": "ok",
     "timestamp": 1600281931147,
     "user": {
      "displayName": "Yaw Adu-Gyamfi",
      "photoUrl": "",
      "userId": "06648105294395810325"
     },
     "user_tz": 300
    },
    "id": "3_1ndkffIs_q",
    "outputId": "81b8a224-dad8-490e-fe9a-59adb8e06621"
   },
   "outputs": [
    {
     "data": {
      "text/html": [
       "<div>\n",
       "<style scoped>\n",
       "    .dataframe tbody tr th:only-of-type {\n",
       "        vertical-align: middle;\n",
       "    }\n",
       "\n",
       "    .dataframe tbody tr th {\n",
       "        vertical-align: top;\n",
       "    }\n",
       "\n",
       "    .dataframe thead th {\n",
       "        text-align: right;\n",
       "    }\n",
       "</style>\n",
       "<table border=\"1\" class=\"dataframe\">\n",
       "  <thead>\n",
       "    <tr style=\"text-align: right;\">\n",
       "      <th></th>\n",
       "      <th>detector_id</th>\n",
       "      <th>travelway</th>\n",
       "      <th>direction</th>\n",
       "      <th>loc</th>\n",
       "      <th>datetime</th>\n",
       "      <th>speed</th>\n",
       "      <th>volume</th>\n",
       "      <th>occupancy</th>\n",
       "      <th>congested</th>\n",
       "      <th>long</th>\n",
       "      <th>lat</th>\n",
       "      <th>day</th>\n",
       "      <th>hour</th>\n",
       "    </tr>\n",
       "  </thead>\n",
       "  <tbody>\n",
       "    <tr>\n",
       "      <th>477023</th>\n",
       "      <td>MI270E002.4D</td>\n",
       "      <td>270</td>\n",
       "      <td>East</td>\n",
       "      <td>9.0</td>\n",
       "      <td>2017-09-03 06:09:00</td>\n",
       "      <td>64.838863</td>\n",
       "      <td>1.156398</td>\n",
       "      <td>1.156398</td>\n",
       "      <td>0.0</td>\n",
       "      <td>-90.380203</td>\n",
       "      <td>38.5154</td>\n",
       "      <td>3</td>\n",
       "      <td>6</td>\n",
       "    </tr>\n",
       "    <tr>\n",
       "      <th>477024</th>\n",
       "      <td>MI270E002.4D</td>\n",
       "      <td>270</td>\n",
       "      <td>East</td>\n",
       "      <td>9.5</td>\n",
       "      <td>2017-09-03 06:09:00</td>\n",
       "      <td>64.447867</td>\n",
       "      <td>1.168246</td>\n",
       "      <td>1.168246</td>\n",
       "      <td>0.0</td>\n",
       "      <td>-90.380203</td>\n",
       "      <td>38.5154</td>\n",
       "      <td>3</td>\n",
       "      <td>6</td>\n",
       "    </tr>\n",
       "    <tr>\n",
       "      <th>477025</th>\n",
       "      <td>MI270E002.4D</td>\n",
       "      <td>270</td>\n",
       "      <td>East</td>\n",
       "      <td>10.0</td>\n",
       "      <td>2017-09-03 06:09:00</td>\n",
       "      <td>64.056872</td>\n",
       "      <td>1.180095</td>\n",
       "      <td>1.180095</td>\n",
       "      <td>0.0</td>\n",
       "      <td>-90.380203</td>\n",
       "      <td>38.5154</td>\n",
       "      <td>3</td>\n",
       "      <td>6</td>\n",
       "    </tr>\n",
       "    <tr>\n",
       "      <th>477026</th>\n",
       "      <td>MI270E002.4D</td>\n",
       "      <td>270</td>\n",
       "      <td>East</td>\n",
       "      <td>10.5</td>\n",
       "      <td>2017-09-03 06:09:00</td>\n",
       "      <td>63.665877</td>\n",
       "      <td>1.191943</td>\n",
       "      <td>1.191943</td>\n",
       "      <td>0.0</td>\n",
       "      <td>-90.380203</td>\n",
       "      <td>38.5154</td>\n",
       "      <td>3</td>\n",
       "      <td>6</td>\n",
       "    </tr>\n",
       "    <tr>\n",
       "      <th>477027</th>\n",
       "      <td>MI270E002.4D</td>\n",
       "      <td>270</td>\n",
       "      <td>East</td>\n",
       "      <td>11.0</td>\n",
       "      <td>2017-09-03 06:09:00</td>\n",
       "      <td>63.274882</td>\n",
       "      <td>1.203791</td>\n",
       "      <td>1.203791</td>\n",
       "      <td>0.0</td>\n",
       "      <td>-90.380203</td>\n",
       "      <td>38.5154</td>\n",
       "      <td>3</td>\n",
       "      <td>6</td>\n",
       "    </tr>\n",
       "  </tbody>\n",
       "</table>\n",
       "</div>"
      ],
      "text/plain": [
       "         detector_id  travelway direction   loc  ...       long      lat  day  hour\n",
       "477023  MI270E002.4D        270      East   9.0  ... -90.380203  38.5154    3     6\n",
       "477024  MI270E002.4D        270      East   9.5  ... -90.380203  38.5154    3     6\n",
       "477025  MI270E002.4D        270      East  10.0  ... -90.380203  38.5154    3     6\n",
       "477026  MI270E002.4D        270      East  10.5  ... -90.380203  38.5154    3     6\n",
       "477027  MI270E002.4D        270      East  11.0  ... -90.380203  38.5154    3     6\n",
       "\n",
       "[5 rows x 13 columns]"
      ]
     },
     "execution_count": 103,
     "metadata": {
      "tags": []
     },
     "output_type": "execute_result"
    }
   ],
   "source": [
    "df2.head()"
   ]
  },
  {
   "cell_type": "code",
   "execution_count": 104,
   "metadata": {
    "colab": {
     "base_uri": "https://localhost:8080/",
     "height": 282
    },
    "colab_type": "code",
    "executionInfo": {
     "elapsed": 678,
     "status": "ok",
     "timestamp": 1600281935200,
     "user": {
      "displayName": "Yaw Adu-Gyamfi",
      "photoUrl": "",
      "userId": "06648105294395810325"
     },
     "user_tz": 300
    },
    "id": "HNuk0OzMIubY",
    "outputId": "a3a4975d-35c1-4bae-de9b-8db2c90a0388"
   },
   "outputs": [
    {
     "data": {
      "text/plain": [
       "<matplotlib.axes._subplots.AxesSubplot at 0x7fd9571bc8d0>"
      ]
     },
     "execution_count": 104,
     "metadata": {
      "tags": []
     },
     "output_type": "execute_result"
    },
    {
     "data": {
      "image/png": "[encoded data removed]",
      "text/plain": [
       "<Figure size 432x288 with 1 Axes>"
      ]
     },
     "metadata": {
      "needs_background": "light",
      "tags": []
     },
     "output_type": "display_data"
    }
   ],
   "source": [
    "df1['occupancy'].plot.hist()"
   ]
  },
  {
   "cell_type": "code",
   "execution_count": 105,
   "metadata": {
    "colab": {
     "base_uri": "https://localhost:8080/",
     "height": 282
    },
    "colab_type": "code",
    "executionInfo": {
     "elapsed": 441,
     "status": "ok",
     "timestamp": 1600281938230,
     "user": {
      "displayName": "Yaw Adu-Gyamfi",
      "photoUrl": "",
      "userId": "06648105294395810325"
     },
     "user_tz": 300
    },
    "id": "SAPdsIB6I1yM",
    "outputId": "a9a5ed11-d30b-4b4c-b596-682106197007"
   },
   "outputs": [
    {
     "data": {
      "text/plain": [
       "<matplotlib.axes._subplots.AxesSubplot at 0x7fd95631b5f8>"
      ]
     },
     "execution_count": 105,
     "metadata": {
      "tags": []
     },
     "output_type": "execute_result"
    },
    {
     "data": {
      "image/png": "[encoded data removed]",
      "text/plain": [
       "<Figure size 432x288 with 1 Axes>"
      ]
     },
     "metadata": {
      "needs_background": "light",
      "tags": []
     },
     "output_type": "display_data"
    }
   ],
   "source": [
    "df2['occupancy'].plot.hist()"
   ]
  },
  {
   "cell_type": "code",
   "execution_count": 106,
   "metadata": {
    "colab": {
     "base_uri": "https://localhost:8080/",
     "height": 102
    },
    "colab_type": "code",
    "executionInfo": {
     "elapsed": 348,
     "status": "ok",
     "timestamp": 1600281943289,
     "user": {
      "displayName": "Yaw Adu-Gyamfi",
      "photoUrl": "",
      "userId": "06648105294395810325"
     },
     "user_tz": 300
    },
    "id": "ig9a85zSJzKV",
    "outputId": "292f12d8-2d30-4873-c99f-3574e0d97cff"
   },
   "outputs": [
    {
     "name": "stdout",
     "output_type": "stream",
     "text": [
      "means of both datasets\n",
      "63.20093733842355 64.75582194227405\n",
      "\n",
      "variance between both datasets\n",
      "24.47444026583503 14.514858694059894\n"
     ]
    }
   ],
   "source": [
    "print ('means of both datasets')\n",
    "print (df1['speed'].mean(),df2['speed'].mean())\n",
    "print ('\\nvariance between both datasets')\n",
    "print (df1['speed'].var(),df2['speed'].var())"
   ]
  },
  {
   "cell_type": "markdown",
   "metadata": {
    "colab_type": "text",
    "id": "GjTr51ilLFao"
   },
   "source": [
    "##Use Dicker fuller test to test for significance"
   ]
  },
  {
   "cell_type": "code",
   "execution_count": 165,
   "metadata": {
    "colab": {},
    "colab_type": "code",
    "executionInfo": {
     "elapsed": 324,
     "status": "ok",
     "timestamp": 1600284332801,
     "user": {
      "displayName": "Yaw Adu-Gyamfi",
      "photoUrl": "",
      "userId": "06648105294395810325"
     },
     "user_tz": 300
    },
    "id": "IzTNdVxPMvmP"
   },
   "outputs": [],
   "source": [
    "def cor_coeff(df1, df2,column):\n",
    "  mu1,std1 = df1[column].values.mean(), df1[column].values.std()\n",
    "  mu2, std2 = df2[column].values.mean(), df2[column].values.std()\n",
    "\n",
    "  xcor,ycor = (df1[column]-mu1).values, (df2[column]-mu2).values\n",
    "  if not (len(xcor) == len(ycor)):\n",
    "    xcor = np.resize(xcor,ycor.shape)\n",
    "  \n",
    "  x_comp = np.divide(xcor,std1)\n",
    "  y_comp = np.divide(ycor,std2)\n",
    "  \n",
    "  numerator = np.sum(np.multiply(xcor,ycor))\n",
    "  denominator = np.sqrt((np.sum(xcor**2)*np.sum(ycor**2)))\n",
    "  coeff = numerator/denominator\n",
    "\n",
    "  return coeff\n"
   ]
  },
  {
   "cell_type": "code",
   "execution_count": 234,
   "metadata": {
    "colab": {
     "base_uri": "https://localhost:8080/",
     "height": 34
    },
    "colab_type": "code",
    "executionInfo": {
     "elapsed": 360,
     "status": "ok",
     "timestamp": 1600286114573,
     "user": {
      "displayName": "Yaw Adu-Gyamfi",
      "photoUrl": "",
      "userId": "06648105294395810325"
     },
     "user_tz": 300
    },
    "id": "wZnZGsVsQ-gt",
    "outputId": "3373750d-79df-4dc2-e940-0d8f71f7c031"
   },
   "outputs": [
    {
     "name": "stdout",
     "output_type": "stream",
     "text": [
      "0.28287364315777425\n"
     ]
    }
   ],
   "source": [
    "coeff = cor_coeff(df1, df2, 'speed')\n",
    "print (coeff)"
   ]
  },
  {
   "cell_type": "code",
   "execution_count": 233,
   "metadata": {
    "colab": {},
    "colab_type": "code",
    "executionInfo": {
     "elapsed": 426,
     "status": "ok",
     "timestamp": 1600286096787,
     "user": {
      "displayName": "Yaw Adu-Gyamfi",
      "photoUrl": "",
      "userId": "06648105294395810325"
     },
     "user_tz": 300
    },
    "id": "cRMt8qo1RwSx"
   },
   "outputs": [],
   "source": [
    "# print (np.corrcoef(xcor,ycor))"
   ]
  },
  {
   "cell_type": "code",
   "execution_count": 235,
   "metadata": {
    "colab": {},
    "colab_type": "code",
    "executionInfo": {
     "elapsed": 357,
     "status": "ok",
     "timestamp": 1600286116550,
     "user": {
      "displayName": "Yaw Adu-Gyamfi",
      "photoUrl": "",
      "userId": "06648105294395810325"
     },
     "user_tz": 300
    },
    "id": "9aeAoZi9aBSN"
   },
   "outputs": [],
   "source": [
    "def cor_coeff_array(x, y):\n",
    "  mu1,std1 = np.mean(x), np.std(x)\n",
    "  mu2, std2 = np.mean(y), np.std(y)\n",
    "\n",
    "  xcor,ycor = x-mu1, y-mu2\n",
    "  if not (len(xcor) == len(ycor)):\n",
    "    xcor = np.resize(xcor,ycor.shape)\n",
    "  \n",
    "  x_comp = np.divide(xcor,std1)\n",
    "  y_comp = np.divide(ycor,std2)\n",
    "  \n",
    "  numerator = np.sum(np.multiply(xcor,ycor))\n",
    "  denominator = np.sqrt((np.sum(xcor**2)*np.sum(ycor**2)))\n",
    "  coeff = numerator/denominator\n",
    "\n",
    "  return coeff"
   ]
  },
  {
   "cell_type": "code",
   "execution_count": 236,
   "metadata": {
    "colab": {},
    "colab_type": "code",
    "executionInfo": {
     "elapsed": 407,
     "status": "ok",
     "timestamp": 1600286156494,
     "user": {
      "displayName": "Yaw Adu-Gyamfi",
      "photoUrl": "",
      "userId": "06648105294395810325"
     },
     "user_tz": 300
    },
    "id": "KTFIYYcYau79"
   },
   "outputs": [],
   "source": [
    "# x_data = volume[0:105]\n",
    "# y_data = volume[5:107]\n",
    "# print (cor_coeff_array(x_data, y_data))"
   ]
  },
  {
   "cell_type": "code",
   "execution_count": 243,
   "metadata": {
    "colab": {},
    "colab_type": "code",
    "executionInfo": {
     "elapsed": 360,
     "status": "ok",
     "timestamp": 1600286222564,
     "user": {
      "displayName": "Yaw Adu-Gyamfi",
      "photoUrl": "",
      "userId": "06648105294395810325"
     },
     "user_tz": 300
    },
    "id": "yOyPViR5YWut"
   },
   "outputs": [],
   "source": [
    "window = 2\n",
    "lag = 1\n",
    "data_len = 400; # check 50 through 500\n",
    "volume = df1['volume'].values; # check for occupancy and speed\n",
    "corrs = []\n",
    "for data_range in range(0,len(volume)-(data_len+lag),window):\n",
    "  x_data = volume[0:data_range+data_len]\n",
    "  y_data = volume[data_range+lag:data_range+data_len+lag]\n",
    "  corrs.append(cor_coeff_array(x_data, y_data))"
   ]
  },
  {
   "cell_type": "code",
   "execution_count": 244,
   "metadata": {
    "colab": {
     "base_uri": "https://localhost:8080/",
     "height": 282
    },
    "colab_type": "code",
    "executionInfo": {
     "elapsed": 565,
     "status": "ok",
     "timestamp": 1600286225482,
     "user": {
      "displayName": "Yaw Adu-Gyamfi",
      "photoUrl": "",
      "userId": "06648105294395810325"
     },
     "user_tz": 300
    },
    "id": "4OftzgP8cL_w",
    "outputId": "8dddbf03-1e2b-4c49-dfd0-115067a51bd0"
   },
   "outputs": [
    {
     "data": {
      "text/plain": [
       "[<matplotlib.lines.Line2D at 0x7fd95567a240>]"
      ]
     },
     "execution_count": 244,
     "metadata": {
      "tags": []
     },
     "output_type": "execute_result"
    },
    {
     "data": {
      "image/png": "[encoded data removed]",
      "text/plain": [
       "<Figure size 432x288 with 1 Axes>"
      ]
     },
     "metadata": {
      "needs_background": "light",
      "tags": []
     },
     "output_type": "display_data"
    }
   ],
   "source": [
    "plt.plot(corrs)"
   ]
  },
  {
   "cell_type": "code",
   "execution_count": 161,
   "metadata": {
    "colab": {
     "base_uri": "https://localhost:8080/",
     "height": 34
    },
    "colab_type": "code",
    "executionInfo": {
     "elapsed": 361,
     "status": "ok",
     "timestamp": 1600284026983,
     "user": {
      "displayName": "Yaw Adu-Gyamfi",
      "photoUrl": "",
      "userId": "06648105294395810325"
     },
     "user_tz": 300
    },
    "id": "HsTQDQV1RwcU",
    "outputId": "0ecf3524-a5bb-412d-d527-4d0098ae203e"
   },
   "outputs": [
    {
     "name": "stdout",
     "output_type": "stream",
     "text": [
      "0.6437052287030149\n"
     ]
    }
   ],
   "source": [
    "print (cor)"
   ]
  }
 ],
 "metadata": {
  "colab": {
   "authorship_tag": "ABX9TyMIzVXqAGO+8f4LhpSYApqq",
   "collapsed_sections": [],
   "name": "exploratory_Data_Analysis.ipynb",
   "provenance": []
  },
  "kernelspec": {
   "display_name": "Python 3",
   "language": "python",
   "name": "python3"
  }
 },
 "nbformat": 4,
 "nbformat_minor": 1
}
